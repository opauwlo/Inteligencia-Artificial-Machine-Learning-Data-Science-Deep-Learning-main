{
 "cells": [
  {
   "cell_type": "code",
   "execution_count": 1,
   "id": "compound-chassis",
   "metadata": {},
   "outputs": [
    {
     "name": "stdout",
     "output_type": "stream",
     "text": [
      "pauwlo\n"
     ]
    }
   ],
   "source": [
    "nome = \"pauwlo\"\n",
    "print (nome)"
   ]
  },
  {
   "cell_type": "code",
   "execution_count": 4,
   "id": "innocent-container",
   "metadata": {},
   "outputs": [
    {
     "name": "stdout",
     "output_type": "stream",
     "text": [
      "37\n"
     ]
    }
   ],
   "source": [
    "idade = 37\n",
    "print(idade)"
   ]
  },
  {
   "cell_type": "code",
   "execution_count": 6,
   "id": "fallen-corps",
   "metadata": {},
   "outputs": [
    {
     "name": "stdout",
     "output_type": "stream",
     "text": [
      "37\n"
     ]
    }
   ],
   "source": [
    "idade + 3\n",
    "print(idade)"
   ]
  },
  {
   "cell_type": "code",
   "execution_count": 7,
   "id": "modified-terrace",
   "metadata": {},
   "outputs": [],
   "source": [
    "def mais_um_ano(idade):\n",
    "    print(\"ta dentro da função\")\n",
    "    return idade + 1"
   ]
  },
  {
   "cell_type": "code",
   "execution_count": 8,
   "id": "greatest-lobby",
   "metadata": {},
   "outputs": [
    {
     "name": "stdout",
     "output_type": "stream",
     "text": [
      "ta dentro da função\n"
     ]
    },
    {
     "data": {
      "text/plain": [
       "21"
      ]
     },
     "execution_count": 8,
     "metadata": {},
     "output_type": "execute_result"
    }
   ],
   "source": [
    "mais_um_ano(20)"
   ]
  },
  {
   "cell_type": "code",
   "execution_count": 28,
   "id": "interested-playback",
   "metadata": {},
   "outputs": [
    {
     "name": "stdout",
     "output_type": "stream",
     "text": [
      "['Toy Store 4', 'Xuxa', 'Matrix']\n"
     ]
    }
   ],
   "source": [
    "filmes = [\"Toy Store 4\", \"Xuxa\", \"Matrix\"]\n",
    "print(filmes)"
   ]
  },
  {
   "cell_type": "code",
   "execution_count": 29,
   "id": "dominant-silly",
   "metadata": {},
   "outputs": [],
   "source": [
    "def imprime_filmes(filmes_im):\n",
    "    print(\"Lista De Filmes Disponível\")\n",
    "    print(filmes_im)"
   ]
  },
  {
   "cell_type": "code",
   "execution_count": 30,
   "id": "vocational-roommate",
   "metadata": {},
   "outputs": [
    {
     "name": "stdout",
     "output_type": "stream",
     "text": [
      "Lista De Filmes Disponível\n",
      "['Toy Store 4', 'Xuxa', 'Matrix']\n"
     ]
    }
   ],
   "source": [
    "imprime_filmes(filmes)"
   ]
  },
  {
   "cell_type": "code",
   "execution_count": 36,
   "id": "marine-google",
   "metadata": {},
   "outputs": [
    {
     "name": "stdout",
     "output_type": "stream",
     "text": [
      "Toy Store 4\n",
      "...\n",
      "Xuxa\n",
      "...\n",
      "Matrix\n",
      "...\n",
      "cabo\n"
     ]
    }
   ],
   "source": [
    "for filme in filmes:\n",
    "    print(filme)\n",
    "    print(\"...\")\n",
    "print(\"cabo\")"
   ]
  },
  {
   "cell_type": "code",
   "execution_count": 37,
   "id": "dynamic-scoop",
   "metadata": {},
   "outputs": [],
   "source": [
    "def imprime_filmes(filmes_im):\n",
    "    print(\"Lista De Filmes Disponível\")\n",
    "    for filme in filmes_im:\n",
    "        print(filme)"
   ]
  },
  {
   "cell_type": "code",
   "execution_count": 38,
   "id": "private-husband",
   "metadata": {},
   "outputs": [
    {
     "name": "stdout",
     "output_type": "stream",
     "text": [
      "Lista De Filmes Disponível\n",
      "Toy Store 4\n",
      "Xuxa\n",
      "Matrix\n"
     ]
    }
   ],
   "source": [
    "imprime_filmes(filmes)"
   ]
  },
  {
   "cell_type": "code",
   "execution_count": 39,
   "id": "planned-latvia",
   "metadata": {},
   "outputs": [
    {
     "name": "stdout",
     "output_type": "stream",
     "text": [
      "{'nome': 'Paulo', 'idade': 20, 'empresa': 'F'}\n"
     ]
    }
   ],
   "source": [
    "dados = {\"nome\" : \"Paulo\", \"idade\" : 20, \"empresa\" : \"F\"}\n",
    "\n",
    "print(dados)"
   ]
  },
  {
   "cell_type": "code",
   "execution_count": 40,
   "id": "impaired-fluid",
   "metadata": {},
   "outputs": [
    {
     "data": {
      "text/plain": [
       "'Paulo'"
      ]
     },
     "execution_count": 40,
     "metadata": {},
     "output_type": "execute_result"
    }
   ],
   "source": [
    "dados[\"nome\"]"
   ]
  }
 ],
 "metadata": {
  "kernelspec": {
   "display_name": "Python 3",
   "language": "python",
   "name": "python3"
  },
  "language_info": {
   "codemirror_mode": {
    "name": "ipython",
    "version": 3
   },
   "file_extension": ".py",
   "mimetype": "text/x-python",
   "name": "python",
   "nbconvert_exporter": "python",
   "pygments_lexer": "ipython3",
   "version": "3.8.5"
  }
 },
 "nbformat": 4,
 "nbformat_minor": 5
}
